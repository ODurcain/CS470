{
  "nbformat": 4,
  "nbformat_minor": 0,
  "metadata": {
    "colab": {
      "provenance": []
    },
    "kernelspec": {
      "name": "python3",
      "display_name": "Python 3"
    },
    "language_info": {
      "name": "python"
    }
  },
  "cells": [
    {
      "cell_type": "code",
      "execution_count": null,
      "metadata": {
        "id": "X73zLq6Caq9w"
      },
      "outputs": [],
      "source": [
        "import keras\n",
        "import pickle\n",
        "from keras.datasets import mnist\n",
        "from keras.models import Sequential\n",
        "from keras.layers import Dense, Dropout, Flatten\n",
        "from keras import backend as K\n",
        "from keras.models import load_model\n",
        "import matplotlib.pyplot as plt\n",
        "import random as rnd\n",
        "import numpy as np\n",
        "from sklearn.preprocessing import MinMaxScaler"
      ]
    },
    {
      "cell_type": "markdown",
      "source": [
        "Mounting google drive"
      ],
      "metadata": {
        "id": "0QSSJWyzIB4P"
      }
    },
    {
      "cell_type": "code",
      "source": [
        "from google.colab import drive\n",
        "drive.mount('/content/drive')"
      ],
      "metadata": {
        "id": "Bn8heYeuFkk0"
      },
      "execution_count": null,
      "outputs": []
    },
    {
      "cell_type": "markdown",
      "source": [
        "Read dataset: chef_data.pickle\n",
        "\n",
        "The inputs are 22-element binary vectors. Each element represents one of the 22 chefs, with a 1 indicating that the chef participated in a given project and a 0 meaning that they did not. The outputs are 4-element vectors."
      ],
      "metadata": {
        "id": "4HAO85kbd_s_"
      }
    },
    {
      "cell_type": "code",
      "source": [
        "with open('/content/drive/MyDrive/chef_data.pickle', 'rb') as f:\n",
        "    (x_train, y_train), (x_test, y_test) = pickle.load(f)"
      ],
      "metadata": {
        "id": "-6YTBhsNbEyj"
      },
      "execution_count": null,
      "outputs": []
    },
    {
      "cell_type": "markdown",
      "source": [
        "# Scaling outputs to be larger than 0 and less than 1\n",
        "(Not exactly 0 or 1, because we want to use the sigmoid function that can only approach but never reach these values)"
      ],
      "metadata": {
        "id": "iFdX0ZoxfFKQ"
      }
    },
    {
      "cell_type": "code",
      "source": [
        "y_train_norm = (y_train - [-1, -1, 0, -100000]) / [12, 12, 2000, 300000]\n",
        "y_test_norm = (y_test - [-1, -1, 0, -100000]) / [12, 12, 2000, 300000]"
      ],
      "metadata": {
        "id": "irK9ZpH9eWt4"
      },
      "execution_count": null,
      "outputs": []
    },
    {
      "cell_type": "markdown",
      "source": [
        "Question1(10 points):\n",
        "write code to get the input dimensions from x_train"
      ],
      "metadata": {
        "id": "frrfIAQBK8L7"
      }
    },
    {
      "cell_type": "code",
      "source": [
        "\n",
        "\n",
        "batch_size = 100\n",
        "num_outputs = 4\n",
        "epochs = 100\n",
        "#write your code here\n",
        "num_inputs =\n",
        "######\n",
        "input_shape = (num_inputs,)\n",
        "\n"
      ],
      "metadata": {
        "id": "2Sl5AKoOd8xL"
      },
      "execution_count": null,
      "outputs": []
    },
    {
      "cell_type": "markdown",
      "source": [
        "Question(50 points):\n",
        "Add neural network layers to match the model architecture.\n",
        "\n",
        "Architecture:\n",
        "\n",
        "hidden_layer1 (Dense) (None, 20)\n",
        "\n",
        "hidden_layer2 (Dense) (None, 20)\n",
        "\n",
        "hidden_layer3 (Dense) (None, 20)\n",
        "\n",
        "\n",
        "output (Dense) (None, 4)"
      ],
      "metadata": {
        "id": "8-u5BIVcO2Lm"
      }
    },
    {
      "cell_type": "code",
      "source": [
        "model = Sequential()\n",
        "model.add(Dense(20, input_shape=input_shape, activation='relu', name='input'))\n",
        "#write your code here\n",
        "\n",
        "############\n"
      ],
      "metadata": {
        "id": "p_4FVonUB177"
      },
      "execution_count": null,
      "outputs": []
    },
    {
      "cell_type": "markdown",
      "source": [
        "Question 3(40 points):\n",
        "\n",
        "Design model.compile and model.fit calls to train the model.\n",
        "\n",
        "1) model.compile should use mse(mean square error) as loss, adam() as optimizer with learning rate =0.05, and metrics as accuracy.\n",
        "\n",
        "2)model.fit should use epochs=100 and batch_size=100"
      ],
      "metadata": {
        "id": "xAUfaJxbK7KT"
      }
    },
    {
      "cell_type": "code",
      "source": [
        "#write your code here\n",
        "\n",
        "##############\n",
        "model.summary()"
      ],
      "metadata": {
        "id": "4TK5tpjtomO4"
      },
      "execution_count": null,
      "outputs": []
    },
    {
      "cell_type": "code",
      "source": [
        "# Get the rescaled predictions for the test set and compute their deviation from the desired ones\n",
        "y_predict_norm = model.predict(x_test)\n",
        "\n",
        "\n",
        "y_predict = y_predict_norm * [12, 12, 3000, 300000] - [1, 1, 0, 100000]\n",
        "y_diff = y_predict - y_test\n",
        "y_stdev = np.std(y_diff, axis=0)\n",
        "\n",
        "print(y_stdev)\n",
        "\n",
        "plt.plot(y_predict[:50,1])\n",
        "plt.plot(y_test[:50,1])\n",
        "\n",
        "plt.show()\n"
      ],
      "metadata": {
        "id": "HL9sKUrkgetY"
      },
      "execution_count": null,
      "outputs": []
    },
    {
      "cell_type": "code",
      "source": [],
      "metadata": {
        "id": "QOdN3JYlvGuI"
      },
      "execution_count": null,
      "outputs": []
    }
  ]
}