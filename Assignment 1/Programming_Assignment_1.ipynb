{
  "nbformat": 4,
  "nbformat_minor": 0,
  "metadata": {
    "colab": {
      "provenance": []
    },
    "kernelspec": {
      "name": "python3",
      "display_name": "Python 3"
    },
    "language_info": {
      "name": "python"
    }
  },
  "cells": [
    {
      "cell_type": "markdown",
      "source": [
        "Importing libraries"
      ],
      "metadata": {
        "id": "sxklCV2PyZFa"
      }
    },
    {
      "cell_type": "code",
      "execution_count": 57,
      "metadata": {
        "id": "jt88c2UbtlnI"
      },
      "outputs": [],
      "source": [
        "import numpy as np\n",
        "import pandas as pd\n",
        "import seaborn as sns\n",
        "import matplotlib.pyplot as plt\n",
        "from sklearn.cluster import KMeans\n",
        "from sklearn.preprocessing import StandardScaler"
      ]
    },
    {
      "cell_type": "markdown",
      "source": [
        "Mounting google drive"
      ],
      "metadata": {
        "id": "0QSSJWyzIB4P"
      }
    },
    {
      "cell_type": "code",
      "source": [
        "from google.colab import drive\n",
        "drive.mount('/content/drive')"
      ],
      "metadata": {
        "id": "Bn8heYeuFkk0"
      },
      "execution_count": null,
      "outputs": []
    },
    {
      "cell_type": "markdown",
      "source": [
        "Read dataset: winequality-red.csv\n",
        "\n",
        "This dataset contains physiochemical properties which determine a good a wine.\n",
        "\n",
        "select columns: density, pH , alcohol\n",
        "\n",
        "return dataframe df_select\n",
        "\n",
        "Tip: use read_csv() function to read csv file"
      ],
      "metadata": {
        "id": "Q0k4uyP-IFeJ"
      }
    },
    {
      "cell_type": "code",
      "source": [
        "def get_col():\n",
        "  #write your code here\n",
        "\n",
        "  #######\n",
        "  return df_select\n",
        "df_select=get_col()"
      ],
      "metadata": {
        "id": "1bAZ6cNz9bgG"
      },
      "execution_count": 59,
      "outputs": []
    },
    {
      "cell_type": "markdown",
      "source": [
        "Normalizing data using min max normalization\n",
        "\n",
        "Tip: use dataframe.min() and dataframe.max()"
      ],
      "metadata": {
        "id": "Yzm7lnUkISco"
      }
    },
    {
      "cell_type": "code",
      "source": [
        "def norm_data(df_select):\n",
        "  #write your code here\n",
        "\n",
        "  ###########\n",
        "  return normalized_df\n",
        "normalized_df=norm_data(df_select)"
      ],
      "metadata": {
        "id": "t8XR1IDQG0sP"
      },
      "execution_count": 60,
      "outputs": []
    },
    {
      "cell_type": "markdown",
      "source": [
        "KMeans algorithm classifies the data points into given number of classes\n",
        "\n",
        "write a code to classify data into 3 classes using KMeans library.\n",
        "\n",
        "Write a code to plot all the classes in the same graph, the graph should be a 3D plot.\n",
        "\n",
        "Tip: use figure.add_subplot() and scatter()"
      ],
      "metadata": {
        "id": "dXSsJsXpai3X"
      }
    },
    {
      "cell_type": "code",
      "source": [
        "def classify(normalized_df):\n",
        "  #write your code here\n",
        "\n",
        "  #############\n",
        "  return normalized_df\n",
        "normalized_df=classify(normalized_df)"
      ],
      "metadata": {
        "id": "VfIafw0CajeL"
      },
      "execution_count": null,
      "outputs": []
    }
  ]
}